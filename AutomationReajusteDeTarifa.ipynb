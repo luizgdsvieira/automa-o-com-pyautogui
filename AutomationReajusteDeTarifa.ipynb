{
 "cells": [
  {
   "cell_type": "code",
   "execution_count": 20,
   "id": "80ee1073",
   "metadata": {},
   "outputs": [
    {
     "data": {
      "text/plain": [
       "'OK'"
      ]
     },
     "execution_count": 20,
     "metadata": {},
     "output_type": "execute_result"
    }
   ],
   "source": [
    "import pyautogui\n",
    "import time\n",
    "\n",
    "pyautogui.alert(text='Um código está em execução')\n",
    "pyautogui.PAUSE = 0.5\n",
    "\n",
    "# abrir o chrome\n",
    "pyautogui.press('winleft')\n",
    "pyautogui.write('chrome')\n",
    "pyautogui.press('enter')\n",
    "time.sleep(1)\n",
    "# acessar o link do site da Aneel\n",
    "pyautogui.write('https://www2.aneel.gov.br/aplicacoes_liferay/tarifa/')\n",
    "pyautogui.press('enter')\n",
    "\n",
    "# Clicar na categoria do Agente (todos)\n",
    "pyautogui.moveTo(2565, 183)\n",
    "pyautogui.click()\n",
    "time.sleep(1)\n",
    "\n",
    "# Clicar na opção \"Todos\"\n",
    "pyautogui.moveTo(2655, 223)\n",
    "pyautogui.click()\n",
    "time.sleep(1)\n",
    "\n",
    "# Clicar no agente \n",
    "pyautogui.moveTo(2829, 180)\n",
    "pyautogui.click()\n",
    "time.sleep(1)\n",
    "\n",
    "# Clicar no CELESC-DIS\n",
    "pyautogui.moveTo(2865, 513)\n",
    "pyautogui.click()\n",
    "time.sleep(1)\n",
    "\n",
    "# Escolher o tipo de processo\n",
    "pyautogui.moveTo(3068, 180)\n",
    "pyautogui.click()\n",
    "time.sleep(1)\n",
    "\n",
    "# Clicar em Revisão \n",
    "pyautogui.moveTo(3001, 283)\n",
    "pyautogui.click()\n",
    "time.sleep(1)\n",
    "\n",
    "# Escolher o ano. \n",
    "pyautogui.moveTo(3215, 179)\n",
    "pyautogui.click()\n",
    "time.sleep(1)\n",
    "\n",
    "# Marcar Todos \n",
    "pyautogui.moveTo(3191, 218)\n",
    "pyautogui.click()\n",
    "time.sleep(1)\n",
    "\n",
    "# Clicar em Procurar\n",
    "pyautogui.moveTo(3306, 183)\n",
    "pyautogui.click()\n",
    "time.sleep(1)\n",
    "\n",
    "# Clicar no Arquivo PDF correspondente\n",
    "pyautogui.moveTo(3265, 391)\n",
    "pyautogui.click()\n",
    "\n",
    "# Esperar 5 segundos\n",
    "time.sleep(5)\n",
    "\n",
    "pyautogui.alert(\"O código acabou de rodar. Pode usar o seu computador de novo\")"
   ]
  },
  {
   "cell_type": "code",
   "execution_count": 24,
   "id": "5dbf467b",
   "metadata": {},
   "outputs": [
    {
     "data": {
      "text/plain": [
       "Point(x=3265, y=391)"
      ]
     },
     "execution_count": 24,
     "metadata": {},
     "output_type": "execute_result"
    }
   ],
   "source": [
    "pyautogui.position()"
   ]
  },
  {
   "cell_type": "code",
   "execution_count": null,
   "id": "00cb4f8f",
   "metadata": {},
   "outputs": [],
   "source": []
  }
 ],
 "metadata": {
  "kernelspec": {
   "display_name": "Python 3 (ipykernel)",
   "language": "python",
   "name": "python3"
  },
  "language_info": {
   "codemirror_mode": {
    "name": "ipython",
    "version": 3
   },
   "file_extension": ".py",
   "mimetype": "text/x-python",
   "name": "python",
   "nbconvert_exporter": "python",
   "pygments_lexer": "ipython3",
   "version": "3.9.13"
  }
 },
 "nbformat": 4,
 "nbformat_minor": 5
}
