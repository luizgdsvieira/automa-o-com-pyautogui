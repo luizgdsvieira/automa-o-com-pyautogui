{
 "cells": [
  {
   "cell_type": "code",
   "execution_count": 7,
   "id": "d28ca774",
   "metadata": {},
   "outputs": [
    {
     "data": {
      "text/plain": [
       "'OK'"
      ]
     },
     "execution_count": 7,
     "metadata": {},
     "output_type": "execute_result"
    }
   ],
   "source": [
    "import pyautogui\n",
    "import time\n",
    "\n",
    "pyautogui.alert(text='Um código está em execução')\n",
    "pyautogui.PAUSE = 0.5\n",
    "# abrir o drive no computador\n",
    "pyautogui.press('winleft')\n",
    "pyautogui.write('chrome')\n",
    "pyautogui.press('enter')\n",
    "time.sleep(1)\n",
    "pyautogui.write('https://drive.google.com/drive/my-drive')\n",
    "pyautogui.press('enter')\n",
    "# entrar na área de trabalho\n",
    "pyautogui.hotkey('winleft', 'd')\n",
    "# cliquei no arquivo que eu quero fazer backup e arrastei ele\n",
    "pyautogui.moveTo(4061, 535)\n",
    "pyautogui.mouseDown()\n",
    "pyautogui.moveTo(1186, 612)\n",
    "\n",
    "\n",
    "# entrei no drive \n",
    "pyautogui.hotkey('alt', 'tab')\n",
    "\n",
    "# larguei o arquivo no google drive\n",
    "pyautogui.mouseUp()\n",
    "\n",
    "# esperar 5 segundos\n",
    "time.sleep(5)\n",
    "\n",
    "pyautogui.alert(\"O código acabou de rodar. Pode usar o seu computador de novo\")"
   ]
  },
  {
   "cell_type": "code",
   "execution_count": 6,
   "id": "23b10954",
   "metadata": {
    "scrolled": true
   },
   "outputs": [
    {
     "data": {
      "text/plain": [
       "Point(x=1186, y=612)"
      ]
     },
     "execution_count": 6,
     "metadata": {},
     "output_type": "execute_result"
    }
   ],
   "source": [
    "pyautogui.position()"
   ]
  },
  {
   "cell_type": "code",
   "execution_count": null,
   "id": "e341fa43",
   "metadata": {},
   "outputs": [],
   "source": []
  }
 ],
 "metadata": {
  "kernelspec": {
   "display_name": "Python 3 (ipykernel)",
   "language": "python",
   "name": "python3"
  },
  "language_info": {
   "codemirror_mode": {
    "name": "ipython",
    "version": 3
   },
   "file_extension": ".py",
   "mimetype": "text/x-python",
   "name": "python",
   "nbconvert_exporter": "python",
   "pygments_lexer": "ipython3",
   "version": "3.9.13"
  }
 },
 "nbformat": 4,
 "nbformat_minor": 5
}
